{
 "cells": [
  {
   "cell_type": "code",
   "execution_count": 100,
   "outputs": [],
   "source": [
    "import os\n",
    "from datetime import datetime\n",
    "from pathlib import Path\n",
    "from time import strptime, mktime\n",
    "\n",
    "import pandas as pd\n",
    "from bs4 import BeautifulSoup\n",
    "from lxml import etree\n",
    "\n",
    "from functions.feed_updaters import get_feed_tree_from_url"
   ],
   "metadata": {
    "collapsed": false,
    "ExecuteTime": {
     "start_time": "2023-04-23T10:42:54.333081Z",
     "end_time": "2023-04-23T10:42:54.335009Z"
    }
   }
  },
  {
   "cell_type": "code",
   "execution_count": 105,
   "outputs": [],
   "source": [
    "\"\"\"\n",
    "We want to compare two feeds. We want to check:\n",
    "- The number of items in each feed\n",
    "- Which items are possibly cross posts\n",
    "- Compare their titles and content\n",
    "- Compare meta-data?\n",
    "\"\"\"\n",
    "\n",
    "intro_str = \"\"\"Welcome to The Nonlinear Library, where we use Text-to-Speech software to convert the best writing from the Rationalist and EA communities into audio.\n",
    "This is: {item_title}, published by {item_author} on {item_date} on {item_web_long}.\"\"\"\n",
    "outro_str = \"\"\"<p>Thanks for listening. To help us out with The Nonlinear Library or to learn more, please visit nonlinear.org. </p>\"\"\"\n",
    "\n",
    "\n",
    "def get_feed_tree_from_local_storage(filename):\n",
    "    tree = etree.parse(filename)\n",
    "    return tree.getroot()\n",
    "\n",
    "\n",
    "def get_feed_dataframe(feed_filename):\n",
    "    feed = get_feed_tree_from_local_storage(feed_filename)\n",
    "    titles = [title_element.text.strip() for title_element in feed.findall('channel/item/title')]\n",
    "    descriptions = [description_element.text.strip() for description_element in\n",
    "                    feed.findall('channel/item/description')]\n",
    "    description_html = [BeautifulSoup(description, 'html.parser') for description in descriptions]\n",
    "    n_description_paragraphs = [len(description.find_all('p')) for description in description_html]\n",
    "\n",
    "    contents = ['' if not item.find('content') else item.find('content').text.strip() for item in\n",
    "                feed.findall('channel/item')]\n",
    "    content_html = [BeautifulSoup(content, 'html.parser') for content in contents]\n",
    "    n_content_paragraphs = [len(content.find_all('p')) for content in content_html]\n",
    "\n",
    "    def date_str_to_datetime(date_str):\n",
    "        return datetime.fromtimestamp(mktime(strptime(date_str, '%a, %d %b %Y %H:%M:%S %Z')))\n",
    "\n",
    "    pub_date = [date_str_to_datetime(pub_date_elem.text.strip()) for pub_date_elem in\n",
    "                feed.findall('channel/item/pubDate')]\n",
    "\n",
    "    data = {\n",
    "        'title': titles,\n",
    "        'title_size': list(map(len, titles)),\n",
    "        'description': descriptions,\n",
    "        'description_size': list(map(len, descriptions)),\n",
    "        'n_description_paragraphs': n_description_paragraphs,\n",
    "        'content': contents,\n",
    "        'content_size': list(map(len, contents)),\n",
    "        'n_content_paragraphs': n_content_paragraphs,\n",
    "        'pub_date': pub_date\n",
    "    }\n",
    "    df = pd.DataFrame(data)\n",
    "    df['description_size'] -= len(intro_str) + len(outro_str)\n",
    "    return df\n",
    "\n",
    "\n",
    "def download_feed(destination_directory, feed_url, destination_filename) -> etree.Element:\n",
    "    destination_path = Path(destination_directory)\n",
    "    if not destination_path.exists():\n",
    "        destination_path.mkdir(parents=True, exist_ok=True)\n",
    "\n",
    "    feed = get_feed_tree_from_url(feed_url)\n",
    "\n",
    "    filename = os.path.join(destination_path, destination_filename)\n",
    "    tree = etree.ElementTree(feed)\n",
    "    tree.write(filename, pretty_print=True, xml_declaration=True, encoding='utf-8')\n",
    "\n",
    "    return feed\n"
   ],
   "metadata": {
    "collapsed": false,
    "ExecuteTime": {
     "start_time": "2023-04-23T10:43:46.124896Z",
     "end_time": "2023-04-23T10:43:46.129230Z"
    }
   }
  },
  {
   "cell_type": "code",
   "execution_count": 98,
   "outputs": [],
   "source": [
    "# Download feeds from production\n",
    "\n",
    "feed_file_names = [\n",
    "    'nonlinear-library-AF.xml',\n",
    "    'nonlinear-library-EA.xml',\n",
    "    'nonlinear-library-LW.xml'\n",
    "]\n",
    "\n",
    "production_feed_url_base = 'https://storage.googleapis.com/rssfile/'\n",
    "dev_feed_url_base = 'https://storage.googleapis.com/newcode/'\n",
    "\n",
    "production_feed_urls = [production_feed_url_base + feed_name for feed_name in feed_file_names]\n",
    "production_feed_destination_filenames = ['test_files/production/' + feed_file_name for feed_file_name in\n",
    "                                         feed_file_names]\n",
    "\n",
    "dev_feed_urls = [dev_feed_url_base + feed_file_name for feed_file_name in feed_file_names]\n",
    "dev_feed_destination_filenames = ['test_files/dev/' + feed_file_name for feed_file_name in feed_file_names]\n",
    "\n",
    "production_feeds = [download_feed('test_files/production', production_feed_url_base + feed_file_name, feed_file_name)\n",
    "                    for feed_file_name in feed_file_names]\n",
    "dev_feeds = [download_feed('test_files/dev', dev_feed_url_base + feed_file_name, feed_file_name) for feed_file_name in\n",
    "             feed_file_names]"
   ],
   "metadata": {
    "collapsed": false,
    "ExecuteTime": {
     "start_time": "2023-04-23T10:42:43.374047Z",
     "end_time": "2023-04-23T10:42:46.062754Z"
    }
   }
  },
  {
   "cell_type": "code",
   "execution_count": 106,
   "outputs": [],
   "source": [
    "feed_to_compare = 'nonlinear-library-AF.xml'\n",
    "\n",
    "dev_feed = get_feed_dataframe('test_files/dev/' + feed_to_compare)\n",
    "prod_feed = get_feed_dataframe('test_files/production/' + feed_to_compare)"
   ],
   "metadata": {
    "collapsed": false,
    "ExecuteTime": {
     "start_time": "2023-04-23T10:43:49.039296Z",
     "end_time": "2023-04-23T10:43:49.617034Z"
    }
   }
  },
  {
   "cell_type": "code",
   "execution_count": 108,
   "outputs": [
    {
     "name": "stdout",
     "output_type": "stream",
     "text": [
      "<class 'pandas.core.frame.DataFrame'>\n",
      "RangeIndex: 7 entries, 0 to 6\n",
      "Data columns (total 9 columns):\n",
      " #   Column                    Non-Null Count  Dtype         \n",
      "---  ------                    --------------  -----         \n",
      " 0   title                     7 non-null      object        \n",
      " 1   title_size                7 non-null      int64         \n",
      " 2   description               7 non-null      object        \n",
      " 3   description_size          7 non-null      int64         \n",
      " 4   n_description_paragraphs  7 non-null      int64         \n",
      " 5   content                   7 non-null      object        \n",
      " 6   content_size              7 non-null      int64         \n",
      " 7   n_content_paragraphs      7 non-null      int64         \n",
      " 8   pub_date                  7 non-null      datetime64[ns]\n",
      "dtypes: datetime64[ns](1), int64(5), object(3)\n",
      "memory usage: 632.0+ bytes\n"
     ]
    }
   ],
   "source": [
    "dev_feed.info()"
   ],
   "metadata": {
    "collapsed": false,
    "ExecuteTime": {
     "start_time": "2023-04-23T10:43:52.794130Z",
     "end_time": "2023-04-23T10:43:52.805573Z"
    }
   }
  },
  {
   "cell_type": "code",
   "execution_count": 109,
   "outputs": [
    {
     "name": "stdout",
     "output_type": "stream",
     "text": [
      "<class 'pandas.core.frame.DataFrame'>\n",
      "RangeIndex: 6 entries, 0 to 5\n",
      "Data columns (total 9 columns):\n",
      " #   Column                    Non-Null Count  Dtype         \n",
      "---  ------                    --------------  -----         \n",
      " 0   title                     6 non-null      object        \n",
      " 1   title_size                6 non-null      int64         \n",
      " 2   description               6 non-null      object        \n",
      " 3   description_size          6 non-null      int64         \n",
      " 4   n_description_paragraphs  6 non-null      int64         \n",
      " 5   content                   6 non-null      object        \n",
      " 6   content_size              6 non-null      int64         \n",
      " 7   n_content_paragraphs      6 non-null      int64         \n",
      " 8   pub_date                  6 non-null      datetime64[ns]\n",
      "dtypes: datetime64[ns](1), int64(5), object(3)\n",
      "memory usage: 560.0+ bytes\n"
     ]
    }
   ],
   "source": [
    "prod_feed.info()"
   ],
   "metadata": {
    "collapsed": false,
    "ExecuteTime": {
     "start_time": "2023-04-23T10:43:54.437156Z",
     "end_time": "2023-04-23T10:43:54.439021Z"
    }
   }
  },
  {
   "cell_type": "code",
   "execution_count": 110,
   "outputs": [
    {
     "data": {
      "text/plain": "                                               title  title_size   \n0  AF - Behavioural statistics for a maze-solving...          68  \\\n1  AF - The Learning-Theoretic Agenda: Status 202...          64   \n2  AF - Capabilities and alignment of LLM cogniti...          75   \n3  AF - Possibilizing vs. actualizing by Tsvi Ben...          56   \n4  AF - Concave Utility Question by Scott Garrabrant          49   \n\n                                         description  description_size   \n0  Welcome to The Nonlinear Library, where we use...             58162  \\\n1  Welcome to The Nonlinear Library, where we use...            437582   \n2  Welcome to The Nonlinear Library, where we use...             54474   \n3  Welcome to The Nonlinear Library, where we use...             12354   \n4  Welcome to The Nonlinear Library, where we use...             31322   \n\n   n_description_paragraphs content  content_size  n_content_paragraphs   \n0                        77                     0                     0  \\\n1                       300                     0                     0   \n2                        93                     0                     0   \n3                        14                     0                     0   \n4                        40                     0                     0   \n\n             pub_date  \n0 2023-04-20 23:26:08  \n1 2023-04-19 06:21:29  \n2 2023-04-18 17:29:29  \n3 2023-04-16 16:55:40  \n4 2023-04-15 01:15:01  ",
      "text/html": "<div>\n<style scoped>\n    .dataframe tbody tr th:only-of-type {\n        vertical-align: middle;\n    }\n\n    .dataframe tbody tr th {\n        vertical-align: top;\n    }\n\n    .dataframe thead th {\n        text-align: right;\n    }\n</style>\n<table border=\"1\" class=\"dataframe\">\n  <thead>\n    <tr style=\"text-align: right;\">\n      <th></th>\n      <th>title</th>\n      <th>title_size</th>\n      <th>description</th>\n      <th>description_size</th>\n      <th>n_description_paragraphs</th>\n      <th>content</th>\n      <th>content_size</th>\n      <th>n_content_paragraphs</th>\n      <th>pub_date</th>\n    </tr>\n  </thead>\n  <tbody>\n    <tr>\n      <th>0</th>\n      <td>AF - Behavioural statistics for a maze-solving...</td>\n      <td>68</td>\n      <td>Welcome to The Nonlinear Library, where we use...</td>\n      <td>58162</td>\n      <td>77</td>\n      <td></td>\n      <td>0</td>\n      <td>0</td>\n      <td>2023-04-20 23:26:08</td>\n    </tr>\n    <tr>\n      <th>1</th>\n      <td>AF - The Learning-Theoretic Agenda: Status 202...</td>\n      <td>64</td>\n      <td>Welcome to The Nonlinear Library, where we use...</td>\n      <td>437582</td>\n      <td>300</td>\n      <td></td>\n      <td>0</td>\n      <td>0</td>\n      <td>2023-04-19 06:21:29</td>\n    </tr>\n    <tr>\n      <th>2</th>\n      <td>AF - Capabilities and alignment of LLM cogniti...</td>\n      <td>75</td>\n      <td>Welcome to The Nonlinear Library, where we use...</td>\n      <td>54474</td>\n      <td>93</td>\n      <td></td>\n      <td>0</td>\n      <td>0</td>\n      <td>2023-04-18 17:29:29</td>\n    </tr>\n    <tr>\n      <th>3</th>\n      <td>AF - Possibilizing vs. actualizing by Tsvi Ben...</td>\n      <td>56</td>\n      <td>Welcome to The Nonlinear Library, where we use...</td>\n      <td>12354</td>\n      <td>14</td>\n      <td></td>\n      <td>0</td>\n      <td>0</td>\n      <td>2023-04-16 16:55:40</td>\n    </tr>\n    <tr>\n      <th>4</th>\n      <td>AF - Concave Utility Question by Scott Garrabrant</td>\n      <td>49</td>\n      <td>Welcome to The Nonlinear Library, where we use...</td>\n      <td>31322</td>\n      <td>40</td>\n      <td></td>\n      <td>0</td>\n      <td>0</td>\n      <td>2023-04-15 01:15:01</td>\n    </tr>\n  </tbody>\n</table>\n</div>"
     },
     "execution_count": 110,
     "metadata": {},
     "output_type": "execute_result"
    }
   ],
   "source": [
    "dev_feed.head()"
   ],
   "metadata": {
    "collapsed": false,
    "ExecuteTime": {
     "start_time": "2023-04-23T10:43:56.908697Z",
     "end_time": "2023-04-23T10:43:56.912499Z"
    }
   }
  },
  {
   "cell_type": "code",
   "execution_count": 111,
   "outputs": [
    {
     "data": {
      "text/plain": "       title_size  description_size  n_description_paragraphs  content_size   \ncount    6.000000          6.000000                  6.000000           6.0  \\\nmean    58.666667      95253.166667                 90.500000           0.0   \nmin     48.000000      12354.000000                 14.000000           0.0   \n25%     50.750000      16214.750000                 31.000000           0.0   \n50%     58.000000      26286.500000                 54.000000           0.0   \n75%     63.000000      48686.000000                 86.750000           0.0   \nmax     75.000000     437582.000000                300.000000           0.0   \nstd     10.112698     168406.067668                106.500235           0.0   \n\n       n_content_paragraphs                       pub_date  \ncount                   6.0                              6  \nmean                    0.0  2023-04-16 10:21:21.500000256  \nmin                     0.0            2023-04-14 06:56:18  \n25%                     0.0  2023-04-14 16:11:24.249999872  \n50%                     0.0     2023-04-15 21:05:20.500000  \n75%                     0.0  2023-04-18 05:21:01.750000128  \nmax                     0.0            2023-04-19 06:21:29  \nstd                     0.0                            NaN  ",
      "text/html": "<div>\n<style scoped>\n    .dataframe tbody tr th:only-of-type {\n        vertical-align: middle;\n    }\n\n    .dataframe tbody tr th {\n        vertical-align: top;\n    }\n\n    .dataframe thead th {\n        text-align: right;\n    }\n</style>\n<table border=\"1\" class=\"dataframe\">\n  <thead>\n    <tr style=\"text-align: right;\">\n      <th></th>\n      <th>title_size</th>\n      <th>description_size</th>\n      <th>n_description_paragraphs</th>\n      <th>content_size</th>\n      <th>n_content_paragraphs</th>\n      <th>pub_date</th>\n    </tr>\n  </thead>\n  <tbody>\n    <tr>\n      <th>count</th>\n      <td>6.000000</td>\n      <td>6.000000</td>\n      <td>6.000000</td>\n      <td>6.0</td>\n      <td>6.0</td>\n      <td>6</td>\n    </tr>\n    <tr>\n      <th>mean</th>\n      <td>58.666667</td>\n      <td>95253.166667</td>\n      <td>90.500000</td>\n      <td>0.0</td>\n      <td>0.0</td>\n      <td>2023-04-16 10:21:21.500000256</td>\n    </tr>\n    <tr>\n      <th>min</th>\n      <td>48.000000</td>\n      <td>12354.000000</td>\n      <td>14.000000</td>\n      <td>0.0</td>\n      <td>0.0</td>\n      <td>2023-04-14 06:56:18</td>\n    </tr>\n    <tr>\n      <th>25%</th>\n      <td>50.750000</td>\n      <td>16214.750000</td>\n      <td>31.000000</td>\n      <td>0.0</td>\n      <td>0.0</td>\n      <td>2023-04-14 16:11:24.249999872</td>\n    </tr>\n    <tr>\n      <th>50%</th>\n      <td>58.000000</td>\n      <td>26286.500000</td>\n      <td>54.000000</td>\n      <td>0.0</td>\n      <td>0.0</td>\n      <td>2023-04-15 21:05:20.500000</td>\n    </tr>\n    <tr>\n      <th>75%</th>\n      <td>63.000000</td>\n      <td>48686.000000</td>\n      <td>86.750000</td>\n      <td>0.0</td>\n      <td>0.0</td>\n      <td>2023-04-18 05:21:01.750000128</td>\n    </tr>\n    <tr>\n      <th>max</th>\n      <td>75.000000</td>\n      <td>437582.000000</td>\n      <td>300.000000</td>\n      <td>0.0</td>\n      <td>0.0</td>\n      <td>2023-04-19 06:21:29</td>\n    </tr>\n    <tr>\n      <th>std</th>\n      <td>10.112698</td>\n      <td>168406.067668</td>\n      <td>106.500235</td>\n      <td>0.0</td>\n      <td>0.0</td>\n      <td>NaN</td>\n    </tr>\n  </tbody>\n</table>\n</div>"
     },
     "execution_count": 111,
     "metadata": {},
     "output_type": "execute_result"
    }
   ],
   "source": [
    "prod_feed.describe()"
   ],
   "metadata": {
    "collapsed": false,
    "ExecuteTime": {
     "start_time": "2023-04-23T10:44:16.582108Z",
     "end_time": "2023-04-23T10:44:16.600903Z"
    }
   }
  },
  {
   "cell_type": "code",
   "execution_count": 113,
   "outputs": [
    {
     "data": {
      "text/plain": "       title_size  description_size  n_description_paragraphs  content_size   \ncount    7.000000          7.000000                  7.000000           7.0  \\\nmean    60.000000      89954.428571                 88.571429           0.0   \nmin     48.000000      12354.000000                 14.000000           0.0   \n25%     52.500000      17893.500000                 34.000000           0.0   \n50%     60.000000      31322.000000                 68.000000           0.0   \n75%     66.000000      56318.000000                 85.000000           0.0   \nmax     75.000000     437582.000000                300.000000           0.0   \nstd      9.882645     154370.893416                 97.354776           0.0   \n\n       n_content_paragraphs                       pub_date  \ncount                   7.0                              7  \nmean                    0.0  2023-04-17 01:56:19.571428864  \nmin                     0.0            2023-04-14 06:56:18  \n25%                     0.0     2023-04-14 19:12:36.500000  \n50%                     0.0            2023-04-16 16:55:40  \n75%                     0.0            2023-04-18 23:55:29  \nmax                     0.0            2023-04-20 23:26:08  \nstd                     0.0                            NaN  ",
      "text/html": "<div>\n<style scoped>\n    .dataframe tbody tr th:only-of-type {\n        vertical-align: middle;\n    }\n\n    .dataframe tbody tr th {\n        vertical-align: top;\n    }\n\n    .dataframe thead th {\n        text-align: right;\n    }\n</style>\n<table border=\"1\" class=\"dataframe\">\n  <thead>\n    <tr style=\"text-align: right;\">\n      <th></th>\n      <th>title_size</th>\n      <th>description_size</th>\n      <th>n_description_paragraphs</th>\n      <th>content_size</th>\n      <th>n_content_paragraphs</th>\n      <th>pub_date</th>\n    </tr>\n  </thead>\n  <tbody>\n    <tr>\n      <th>count</th>\n      <td>7.000000</td>\n      <td>7.000000</td>\n      <td>7.000000</td>\n      <td>7.0</td>\n      <td>7.0</td>\n      <td>7</td>\n    </tr>\n    <tr>\n      <th>mean</th>\n      <td>60.000000</td>\n      <td>89954.428571</td>\n      <td>88.571429</td>\n      <td>0.0</td>\n      <td>0.0</td>\n      <td>2023-04-17 01:56:19.571428864</td>\n    </tr>\n    <tr>\n      <th>min</th>\n      <td>48.000000</td>\n      <td>12354.000000</td>\n      <td>14.000000</td>\n      <td>0.0</td>\n      <td>0.0</td>\n      <td>2023-04-14 06:56:18</td>\n    </tr>\n    <tr>\n      <th>25%</th>\n      <td>52.500000</td>\n      <td>17893.500000</td>\n      <td>34.000000</td>\n      <td>0.0</td>\n      <td>0.0</td>\n      <td>2023-04-14 19:12:36.500000</td>\n    </tr>\n    <tr>\n      <th>50%</th>\n      <td>60.000000</td>\n      <td>31322.000000</td>\n      <td>68.000000</td>\n      <td>0.0</td>\n      <td>0.0</td>\n      <td>2023-04-16 16:55:40</td>\n    </tr>\n    <tr>\n      <th>75%</th>\n      <td>66.000000</td>\n      <td>56318.000000</td>\n      <td>85.000000</td>\n      <td>0.0</td>\n      <td>0.0</td>\n      <td>2023-04-18 23:55:29</td>\n    </tr>\n    <tr>\n      <th>max</th>\n      <td>75.000000</td>\n      <td>437582.000000</td>\n      <td>300.000000</td>\n      <td>0.0</td>\n      <td>0.0</td>\n      <td>2023-04-20 23:26:08</td>\n    </tr>\n    <tr>\n      <th>std</th>\n      <td>9.882645</td>\n      <td>154370.893416</td>\n      <td>97.354776</td>\n      <td>0.0</td>\n      <td>0.0</td>\n      <td>NaN</td>\n    </tr>\n  </tbody>\n</table>\n</div>"
     },
     "execution_count": 113,
     "metadata": {},
     "output_type": "execute_result"
    }
   ],
   "source": [
    "dev_feed.describe()"
   ],
   "metadata": {
    "collapsed": false,
    "ExecuteTime": {
     "start_time": "2023-04-23T10:44:30.829541Z",
     "end_time": "2023-04-23T10:44:30.848171Z"
    }
   }
  },
  {
   "cell_type": "code",
   "execution_count": 114,
   "outputs": [
    {
     "data": {
      "text/plain": "                                               title  title_size   \n0  AF - Behavioural statistics for a maze-solving...          68  \\\n\n                                         description  description_size   \n0  Welcome to The Nonlinear Library, where we use...             58162  \\\n\n   n_description_paragraphs content  content_size  n_content_paragraphs   \n0                        77                     0                     0  \\\n\n             pub_date  \n0 2023-04-20 23:26:08  ",
      "text/html": "<div>\n<style scoped>\n    .dataframe tbody tr th:only-of-type {\n        vertical-align: middle;\n    }\n\n    .dataframe tbody tr th {\n        vertical-align: top;\n    }\n\n    .dataframe thead th {\n        text-align: right;\n    }\n</style>\n<table border=\"1\" class=\"dataframe\">\n  <thead>\n    <tr style=\"text-align: right;\">\n      <th></th>\n      <th>title</th>\n      <th>title_size</th>\n      <th>description</th>\n      <th>description_size</th>\n      <th>n_description_paragraphs</th>\n      <th>content</th>\n      <th>content_size</th>\n      <th>n_content_paragraphs</th>\n      <th>pub_date</th>\n    </tr>\n  </thead>\n  <tbody>\n    <tr>\n      <th>0</th>\n      <td>AF - Behavioural statistics for a maze-solving...</td>\n      <td>68</td>\n      <td>Welcome to The Nonlinear Library, where we use...</td>\n      <td>58162</td>\n      <td>77</td>\n      <td></td>\n      <td>0</td>\n      <td>0</td>\n      <td>2023-04-20 23:26:08</td>\n    </tr>\n  </tbody>\n</table>\n</div>"
     },
     "execution_count": 114,
     "metadata": {},
     "output_type": "execute_result"
    }
   ],
   "source": [
    "# See which titles are found in dev that are not in production.\n",
    "dev_feed[~dev_feed['title'].isin(prod_feed['title'].tolist())]"
   ],
   "metadata": {
    "collapsed": false,
    "ExecuteTime": {
     "start_time": "2023-04-23T10:44:41.816174Z",
     "end_time": "2023-04-23T10:44:41.821004Z"
    }
   }
  },
  {
   "cell_type": "code",
   "execution_count": 115,
   "outputs": [
    {
     "data": {
      "text/plain": "Empty DataFrame\nColumns: [title, title_size, description, description_size, n_description_paragraphs, content, content_size, n_content_paragraphs, pub_date]\nIndex: []",
      "text/html": "<div>\n<style scoped>\n    .dataframe tbody tr th:only-of-type {\n        vertical-align: middle;\n    }\n\n    .dataframe tbody tr th {\n        vertical-align: top;\n    }\n\n    .dataframe thead th {\n        text-align: right;\n    }\n</style>\n<table border=\"1\" class=\"dataframe\">\n  <thead>\n    <tr style=\"text-align: right;\">\n      <th></th>\n      <th>title</th>\n      <th>title_size</th>\n      <th>description</th>\n      <th>description_size</th>\n      <th>n_description_paragraphs</th>\n      <th>content</th>\n      <th>content_size</th>\n      <th>n_content_paragraphs</th>\n      <th>pub_date</th>\n    </tr>\n  </thead>\n  <tbody>\n  </tbody>\n</table>\n</div>"
     },
     "execution_count": 115,
     "metadata": {},
     "output_type": "execute_result"
    }
   ],
   "source": [
    "# See which titles are found in production that are not in dev\n",
    "prod_feed[~prod_feed['title'].isin(dev_feed['title'].tolist())]"
   ],
   "metadata": {
    "collapsed": false,
    "ExecuteTime": {
     "start_time": "2023-04-23T10:44:53.655305Z",
     "end_time": "2023-04-23T10:44:53.669073Z"
    }
   }
  }
 ],
 "metadata": {
  "kernelspec": {
   "display_name": "Python 3",
   "language": "python",
   "name": "python3"
  },
  "language_info": {
   "codemirror_mode": {
    "name": "ipython",
    "version": 2
   },
   "file_extension": ".py",
   "mimetype": "text/x-python",
   "name": "python",
   "nbconvert_exporter": "python",
   "pygments_lexer": "ipython2",
   "version": "2.7.6"
  }
 },
 "nbformat": 4,
 "nbformat_minor": 0
}
