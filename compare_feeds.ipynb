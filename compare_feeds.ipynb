{
 "cells": [
  {
   "cell_type": "code",
   "execution_count": 1,
   "outputs": [],
   "source": [
    "import os\n",
    "from datetime import datetime\n",
    "from pathlib import Path\n",
    "from time import strptime, mktime\n",
    "\n",
    "import pandas as pd\n",
    "from bs4 import BeautifulSoup\n",
    "from lxml import etree\n",
    "\n",
    "from functions.feed_updaters import get_feed_tree_from_url"
   ],
   "metadata": {
    "collapsed": false,
    "ExecuteTime": {
     "start_time": "2023-04-23T12:37:17.998820Z",
     "end_time": "2023-04-23T12:37:18.349952Z"
    }
   }
  },
  {
   "cell_type": "code",
   "execution_count": 2,
   "outputs": [],
   "source": [
    "\"\"\"\n",
    "We want to compare two feeds. We want to check:\n",
    "- The number of items in each feed, their titles and their contents (description and content tags)\n",
    "- Which items are possibly cross posts by detecting the post with minimum content\n",
    "- See what posts are missing from one feed in order to investigate why they're missing\n",
    "\"\"\"\n",
    "\n",
    "intro_str = \"\"\"Welcome to The Nonlinear Library, where we use Text-to-Speech software to convert the best writing from the Rationalist and EA communities into audio.\n",
    "This is: {item_title}, published by {item_author} on {item_date} on {item_web_long}.\"\"\"\n",
    "outro_str = \"\"\"<p>Thanks for listening. To help us out with The Nonlinear Library or to learn more, please visit nonlinear.org. </p>\"\"\"\n",
    "\n",
    "\n",
    "def get_feed_tree_from_local_storage(filename):\n",
    "    tree = etree.parse(filename)\n",
    "    return tree.getroot()\n",
    "\n",
    "\n",
    "def get_feed_dataframe(feed_filename):\n",
    "    feed = get_feed_tree_from_local_storage(feed_filename)\n",
    "    titles = [title_element.text.strip() for title_element in feed.findall('channel/item/title')]\n",
    "    descriptions = [description_element.text.strip() for description_element in\n",
    "                    feed.findall('channel/item/description')]\n",
    "    description_html = [BeautifulSoup(description, 'html.parser') for description in descriptions]\n",
    "    n_description_paragraphs = [len(description.find_all('p')) for description in description_html]\n",
    "\n",
    "    contents = ['' if not item.find('content') else item.find('content').text.strip() for item in\n",
    "                feed.findall('channel/item')]\n",
    "    content_html = [BeautifulSoup(content, 'html.parser') for content in contents]\n",
    "    n_content_paragraphs = [len(content.find_all('p')) for content in content_html]\n",
    "\n",
    "    def date_str_to_datetime(date_str):\n",
    "        return datetime.fromtimestamp(mktime(strptime(date_str, '%a, %d %b %Y %H:%M:%S %Z')))\n",
    "\n",
    "    pub_date = [date_str_to_datetime(pub_date_elem.text.strip()) for pub_date_elem in\n",
    "                feed.findall('channel/item/pubDate')]\n",
    "\n",
    "    data = {\n",
    "        'title': titles,\n",
    "        'title_size': list(map(len, titles)),\n",
    "        'description': descriptions,\n",
    "        'description_size': list(map(len, descriptions)),\n",
    "        'n_description_paragraphs': n_description_paragraphs,\n",
    "        'content': contents,\n",
    "        'content_size': list(map(len, contents)),\n",
    "        'n_content_paragraphs': n_content_paragraphs,\n",
    "        'pub_date': pub_date\n",
    "    }\n",
    "    df = pd.DataFrame(data)\n",
    "    df['description_size'] -= len(intro_str) + len(outro_str)\n",
    "    return df\n",
    "\n",
    "\n",
    "def download_feed(destination_directory, feed_url, destination_filename) -> etree.Element:\n",
    "    destination_path = Path(destination_directory)\n",
    "    if not destination_path.exists():\n",
    "        destination_path.mkdir(parents=True, exist_ok=True)\n",
    "\n",
    "    feed = get_feed_tree_from_url(feed_url)\n",
    "\n",
    "    filename = os.path.join(destination_path, destination_filename)\n",
    "    tree = etree.ElementTree(feed)\n",
    "    tree.write(filename, pretty_print=True, xml_declaration=True, encoding='utf-8')\n",
    "\n",
    "    return feed\n"
   ],
   "metadata": {
    "collapsed": false,
    "ExecuteTime": {
     "start_time": "2023-04-23T12:37:18.355844Z",
     "end_time": "2023-04-23T12:37:18.358187Z"
    }
   }
  },
  {
   "cell_type": "code",
   "execution_count": 13,
   "outputs": [],
   "source": [
    "# Download feeds from production\n",
    "\n",
    "feed_file_names = [\n",
    "    'nonlinear-library-AF.xml',\n",
    "    'nonlinear-library-EA.xml',\n",
    "    'nonlinear-library-LW.xml'\n",
    "]\n",
    "\n",
    "production_feed_url_base = 'https://storage.googleapis.com/rssfile/'\n",
    "dev_feed_url_base = 'https://storage.googleapis.com/newcode/'\n",
    "\n",
    "production_feed_urls = [production_feed_url_base + feed_name for feed_name in feed_file_names]\n",
    "production_feed_destination_filenames = ['test_files/production/' + feed_file_name for feed_file_name in\n",
    "                                         feed_file_names]\n",
    "\n",
    "dev_feed_urls = [dev_feed_url_base + feed_file_name for feed_file_name in feed_file_names]\n",
    "dev_feed_destination_filenames = ['test_files/dev/' + feed_file_name for feed_file_name in feed_file_names]\n",
    "\n",
    "production_feeds = [download_feed('test_files/production', production_feed_url_base + feed_file_name, feed_file_name)\n",
    "                    for feed_file_name in feed_file_names]\n",
    "dev_feeds = [download_feed('test_files/dev', dev_feed_url_base + feed_file_name, feed_file_name) for feed_file_name in\n",
    "             feed_file_names]"
   ],
   "metadata": {
    "collapsed": false,
    "ExecuteTime": {
     "start_time": "2023-04-23T12:44:09.430862Z",
     "end_time": "2023-04-23T12:44:20.389212Z"
    }
   }
  },
  {
   "cell_type": "code",
   "execution_count": 15,
   "outputs": [],
   "source": [
    "feed_to_compare = 'nonlinear-library-EA.xml'\n",
    "\n",
    "dev_feed = get_feed_dataframe('test_files/dev/' + feed_to_compare)\n",
    "prod_feed = get_feed_dataframe('test_files/production/' + feed_to_compare)"
   ],
   "metadata": {
    "collapsed": false,
    "ExecuteTime": {
     "start_time": "2023-04-23T12:44:27.192992Z",
     "end_time": "2023-04-23T12:44:27.268032Z"
    }
   }
  },
  {
   "cell_type": "code",
   "execution_count": 16,
   "outputs": [
    {
     "name": "stdout",
     "output_type": "stream",
     "text": [
      "<class 'pandas.core.frame.DataFrame'>\n",
      "RangeIndex: 8 entries, 0 to 7\n",
      "Data columns (total 9 columns):\n",
      " #   Column                    Non-Null Count  Dtype         \n",
      "---  ------                    --------------  -----         \n",
      " 0   title                     8 non-null      object        \n",
      " 1   title_size                8 non-null      int64         \n",
      " 2   description               8 non-null      object        \n",
      " 3   description_size          8 non-null      int64         \n",
      " 4   n_description_paragraphs  8 non-null      int64         \n",
      " 5   content                   8 non-null      object        \n",
      " 6   content_size              8 non-null      int64         \n",
      " 7   n_content_paragraphs      8 non-null      int64         \n",
      " 8   pub_date                  8 non-null      datetime64[ns]\n",
      "dtypes: datetime64[ns](1), int64(5), object(3)\n",
      "memory usage: 704.0+ bytes\n"
     ]
    }
   ],
   "source": [
    "dev_feed.info()"
   ],
   "metadata": {
    "collapsed": false,
    "ExecuteTime": {
     "start_time": "2023-04-23T12:44:27.871293Z",
     "end_time": "2023-04-23T12:44:27.879313Z"
    }
   }
  },
  {
   "cell_type": "code",
   "execution_count": 17,
   "outputs": [
    {
     "name": "stdout",
     "output_type": "stream",
     "text": [
      "<class 'pandas.core.frame.DataFrame'>\n",
      "RangeIndex: 8 entries, 0 to 7\n",
      "Data columns (total 9 columns):\n",
      " #   Column                    Non-Null Count  Dtype         \n",
      "---  ------                    --------------  -----         \n",
      " 0   title                     8 non-null      object        \n",
      " 1   title_size                8 non-null      int64         \n",
      " 2   description               8 non-null      object        \n",
      " 3   description_size          8 non-null      int64         \n",
      " 4   n_description_paragraphs  8 non-null      int64         \n",
      " 5   content                   8 non-null      object        \n",
      " 6   content_size              8 non-null      int64         \n",
      " 7   n_content_paragraphs      8 non-null      int64         \n",
      " 8   pub_date                  8 non-null      datetime64[ns]\n",
      "dtypes: datetime64[ns](1), int64(5), object(3)\n",
      "memory usage: 704.0+ bytes\n"
     ]
    }
   ],
   "source": [
    "prod_feed.info()"
   ],
   "metadata": {
    "collapsed": false,
    "ExecuteTime": {
     "start_time": "2023-04-23T12:44:29.644312Z",
     "end_time": "2023-04-23T12:44:29.647394Z"
    }
   }
  },
  {
   "cell_type": "code",
   "execution_count": 18,
   "outputs": [
    {
     "data": {
      "text/plain": "       title_size  description_size  n_description_paragraphs  content_size   \ncount    8.000000          8.000000                  8.000000           8.0  \\\nmean    94.750000      26926.375000                 51.000000           0.0   \nmin     54.000000       1594.000000                  4.000000           0.0   \n25%     78.000000       1946.000000                  5.750000           0.0   \n50%    100.000000       3712.000000                 11.500000           0.0   \n75%    104.250000       6213.250000                 18.000000           0.0   \nmax    139.000000     189526.000000                332.000000           0.0   \nstd     26.553181      65733.768334                113.696337           0.0   \n\n       n_content_paragraphs                       pub_date  \ncount                   8.0                              8  \nmean                    0.0     2023-04-21 19:21:07.500000  \nmin                     0.0            2023-04-20 23:21:14  \n25%                     0.0            2023-04-21 10:08:51  \n50%                     0.0     2023-04-21 16:18:48.500000  \n75%                     0.0  2023-04-21 22:49:58.750000128  \nmax                     0.0            2023-04-23 10:39:28  \nstd                     0.0                            NaN  ",
      "text/html": "<div>\n<style scoped>\n    .dataframe tbody tr th:only-of-type {\n        vertical-align: middle;\n    }\n\n    .dataframe tbody tr th {\n        vertical-align: top;\n    }\n\n    .dataframe thead th {\n        text-align: right;\n    }\n</style>\n<table border=\"1\" class=\"dataframe\">\n  <thead>\n    <tr style=\"text-align: right;\">\n      <th></th>\n      <th>title_size</th>\n      <th>description_size</th>\n      <th>n_description_paragraphs</th>\n      <th>content_size</th>\n      <th>n_content_paragraphs</th>\n      <th>pub_date</th>\n    </tr>\n  </thead>\n  <tbody>\n    <tr>\n      <th>count</th>\n      <td>8.000000</td>\n      <td>8.000000</td>\n      <td>8.000000</td>\n      <td>8.0</td>\n      <td>8.0</td>\n      <td>8</td>\n    </tr>\n    <tr>\n      <th>mean</th>\n      <td>94.750000</td>\n      <td>26926.375000</td>\n      <td>51.000000</td>\n      <td>0.0</td>\n      <td>0.0</td>\n      <td>2023-04-21 19:21:07.500000</td>\n    </tr>\n    <tr>\n      <th>min</th>\n      <td>54.000000</td>\n      <td>1594.000000</td>\n      <td>4.000000</td>\n      <td>0.0</td>\n      <td>0.0</td>\n      <td>2023-04-20 23:21:14</td>\n    </tr>\n    <tr>\n      <th>25%</th>\n      <td>78.000000</td>\n      <td>1946.000000</td>\n      <td>5.750000</td>\n      <td>0.0</td>\n      <td>0.0</td>\n      <td>2023-04-21 10:08:51</td>\n    </tr>\n    <tr>\n      <th>50%</th>\n      <td>100.000000</td>\n      <td>3712.000000</td>\n      <td>11.500000</td>\n      <td>0.0</td>\n      <td>0.0</td>\n      <td>2023-04-21 16:18:48.500000</td>\n    </tr>\n    <tr>\n      <th>75%</th>\n      <td>104.250000</td>\n      <td>6213.250000</td>\n      <td>18.000000</td>\n      <td>0.0</td>\n      <td>0.0</td>\n      <td>2023-04-21 22:49:58.750000128</td>\n    </tr>\n    <tr>\n      <th>max</th>\n      <td>139.000000</td>\n      <td>189526.000000</td>\n      <td>332.000000</td>\n      <td>0.0</td>\n      <td>0.0</td>\n      <td>2023-04-23 10:39:28</td>\n    </tr>\n    <tr>\n      <th>std</th>\n      <td>26.553181</td>\n      <td>65733.768334</td>\n      <td>113.696337</td>\n      <td>0.0</td>\n      <td>0.0</td>\n      <td>NaN</td>\n    </tr>\n  </tbody>\n</table>\n</div>"
     },
     "execution_count": 18,
     "metadata": {},
     "output_type": "execute_result"
    }
   ],
   "source": [
    "prod_feed.describe()"
   ],
   "metadata": {
    "collapsed": false,
    "ExecuteTime": {
     "start_time": "2023-04-23T12:44:30.289986Z",
     "end_time": "2023-04-23T12:44:30.302110Z"
    }
   }
  },
  {
   "cell_type": "code",
   "execution_count": 19,
   "outputs": [
    {
     "data": {
      "text/plain": "       title_size  description_size  n_description_paragraphs  content_size   \ncount    8.000000          8.000000                  8.000000           8.0  \\\nmean    94.750000      26926.375000                 51.000000           0.0   \nmin     54.000000       1594.000000                  4.000000           0.0   \n25%     78.000000       1946.000000                  5.750000           0.0   \n50%    100.000000       3712.000000                 11.500000           0.0   \n75%    104.250000       6213.250000                 18.000000           0.0   \nmax    139.000000     189526.000000                332.000000           0.0   \nstd     26.553181      65733.768334                113.696337           0.0   \n\n       n_content_paragraphs                       pub_date  \ncount                   8.0                              8  \nmean                    0.0     2023-04-21 19:21:07.500000  \nmin                     0.0            2023-04-20 23:21:14  \n25%                     0.0            2023-04-21 10:08:51  \n50%                     0.0     2023-04-21 16:18:48.500000  \n75%                     0.0  2023-04-21 22:49:58.750000128  \nmax                     0.0            2023-04-23 10:39:28  \nstd                     0.0                            NaN  ",
      "text/html": "<div>\n<style scoped>\n    .dataframe tbody tr th:only-of-type {\n        vertical-align: middle;\n    }\n\n    .dataframe tbody tr th {\n        vertical-align: top;\n    }\n\n    .dataframe thead th {\n        text-align: right;\n    }\n</style>\n<table border=\"1\" class=\"dataframe\">\n  <thead>\n    <tr style=\"text-align: right;\">\n      <th></th>\n      <th>title_size</th>\n      <th>description_size</th>\n      <th>n_description_paragraphs</th>\n      <th>content_size</th>\n      <th>n_content_paragraphs</th>\n      <th>pub_date</th>\n    </tr>\n  </thead>\n  <tbody>\n    <tr>\n      <th>count</th>\n      <td>8.000000</td>\n      <td>8.000000</td>\n      <td>8.000000</td>\n      <td>8.0</td>\n      <td>8.0</td>\n      <td>8</td>\n    </tr>\n    <tr>\n      <th>mean</th>\n      <td>94.750000</td>\n      <td>26926.375000</td>\n      <td>51.000000</td>\n      <td>0.0</td>\n      <td>0.0</td>\n      <td>2023-04-21 19:21:07.500000</td>\n    </tr>\n    <tr>\n      <th>min</th>\n      <td>54.000000</td>\n      <td>1594.000000</td>\n      <td>4.000000</td>\n      <td>0.0</td>\n      <td>0.0</td>\n      <td>2023-04-20 23:21:14</td>\n    </tr>\n    <tr>\n      <th>25%</th>\n      <td>78.000000</td>\n      <td>1946.000000</td>\n      <td>5.750000</td>\n      <td>0.0</td>\n      <td>0.0</td>\n      <td>2023-04-21 10:08:51</td>\n    </tr>\n    <tr>\n      <th>50%</th>\n      <td>100.000000</td>\n      <td>3712.000000</td>\n      <td>11.500000</td>\n      <td>0.0</td>\n      <td>0.0</td>\n      <td>2023-04-21 16:18:48.500000</td>\n    </tr>\n    <tr>\n      <th>75%</th>\n      <td>104.250000</td>\n      <td>6213.250000</td>\n      <td>18.000000</td>\n      <td>0.0</td>\n      <td>0.0</td>\n      <td>2023-04-21 22:49:58.750000128</td>\n    </tr>\n    <tr>\n      <th>max</th>\n      <td>139.000000</td>\n      <td>189526.000000</td>\n      <td>332.000000</td>\n      <td>0.0</td>\n      <td>0.0</td>\n      <td>2023-04-23 10:39:28</td>\n    </tr>\n    <tr>\n      <th>std</th>\n      <td>26.553181</td>\n      <td>65733.768334</td>\n      <td>113.696337</td>\n      <td>0.0</td>\n      <td>0.0</td>\n      <td>NaN</td>\n    </tr>\n  </tbody>\n</table>\n</div>"
     },
     "execution_count": 19,
     "metadata": {},
     "output_type": "execute_result"
    }
   ],
   "source": [
    "dev_feed.describe()"
   ],
   "metadata": {
    "collapsed": false,
    "ExecuteTime": {
     "start_time": "2023-04-23T12:44:32.083870Z",
     "end_time": "2023-04-23T12:44:32.091680Z"
    }
   }
  },
  {
   "cell_type": "code",
   "execution_count": 20,
   "outputs": [
    {
     "data": {
      "text/plain": "Empty DataFrame\nColumns: [title, title_size, description, description_size, n_description_paragraphs, content, content_size, n_content_paragraphs, pub_date]\nIndex: []",
      "text/html": "<div>\n<style scoped>\n    .dataframe tbody tr th:only-of-type {\n        vertical-align: middle;\n    }\n\n    .dataframe tbody tr th {\n        vertical-align: top;\n    }\n\n    .dataframe thead th {\n        text-align: right;\n    }\n</style>\n<table border=\"1\" class=\"dataframe\">\n  <thead>\n    <tr style=\"text-align: right;\">\n      <th></th>\n      <th>title</th>\n      <th>title_size</th>\n      <th>description</th>\n      <th>description_size</th>\n      <th>n_description_paragraphs</th>\n      <th>content</th>\n      <th>content_size</th>\n      <th>n_content_paragraphs</th>\n      <th>pub_date</th>\n    </tr>\n  </thead>\n  <tbody>\n  </tbody>\n</table>\n</div>"
     },
     "execution_count": 20,
     "metadata": {},
     "output_type": "execute_result"
    }
   ],
   "source": [
    "# See which titles are found in dev that are not in production.\n",
    "dev_feed[~dev_feed['title'].isin(prod_feed['title'].tolist())]"
   ],
   "metadata": {
    "collapsed": false,
    "ExecuteTime": {
     "start_time": "2023-04-23T12:44:33.751884Z",
     "end_time": "2023-04-23T12:44:33.760181Z"
    }
   }
  },
  {
   "cell_type": "code",
   "execution_count": 21,
   "outputs": [
    {
     "data": {
      "text/plain": "Empty DataFrame\nColumns: [title, title_size, description, description_size, n_description_paragraphs, content, content_size, n_content_paragraphs, pub_date]\nIndex: []",
      "text/html": "<div>\n<style scoped>\n    .dataframe tbody tr th:only-of-type {\n        vertical-align: middle;\n    }\n\n    .dataframe tbody tr th {\n        vertical-align: top;\n    }\n\n    .dataframe thead th {\n        text-align: right;\n    }\n</style>\n<table border=\"1\" class=\"dataframe\">\n  <thead>\n    <tr style=\"text-align: right;\">\n      <th></th>\n      <th>title</th>\n      <th>title_size</th>\n      <th>description</th>\n      <th>description_size</th>\n      <th>n_description_paragraphs</th>\n      <th>content</th>\n      <th>content_size</th>\n      <th>n_content_paragraphs</th>\n      <th>pub_date</th>\n    </tr>\n  </thead>\n  <tbody>\n  </tbody>\n</table>\n</div>"
     },
     "execution_count": 21,
     "metadata": {},
     "output_type": "execute_result"
    }
   ],
   "source": [
    "# See which titles are found in production that are not in dev\n",
    "prod_feed[~prod_feed['title'].isin(dev_feed['title'].tolist())]"
   ],
   "metadata": {
    "collapsed": false,
    "ExecuteTime": {
     "start_time": "2023-04-23T12:44:34.315609Z",
     "end_time": "2023-04-23T12:44:34.323484Z"
    }
   }
  },
  {
   "cell_type": "code",
   "execution_count": 22,
   "outputs": [
    {
     "data": {
      "text/plain": "                                               title  title_size   \n6  EA - High schoolers can apply to the Atlas Fel...         101  \\\n\n                                         description  description_size   \n6  Welcome to The Nonlinear Library, where we use...              1956  \\\n\n   n_description_paragraphs content  content_size  n_content_paragraphs   \n6                         4                     0                     0  \\\n\n             pub_date  \n6 2023-04-21 04:41:39  ",
      "text/html": "<div>\n<style scoped>\n    .dataframe tbody tr th:only-of-type {\n        vertical-align: middle;\n    }\n\n    .dataframe tbody tr th {\n        vertical-align: top;\n    }\n\n    .dataframe thead th {\n        text-align: right;\n    }\n</style>\n<table border=\"1\" class=\"dataframe\">\n  <thead>\n    <tr style=\"text-align: right;\">\n      <th></th>\n      <th>title</th>\n      <th>title_size</th>\n      <th>description</th>\n      <th>description_size</th>\n      <th>n_description_paragraphs</th>\n      <th>content</th>\n      <th>content_size</th>\n      <th>n_content_paragraphs</th>\n      <th>pub_date</th>\n    </tr>\n  </thead>\n  <tbody>\n    <tr>\n      <th>6</th>\n      <td>EA - High schoolers can apply to the Atlas Fel...</td>\n      <td>101</td>\n      <td>Welcome to The Nonlinear Library, where we use...</td>\n      <td>1956</td>\n      <td>4</td>\n      <td></td>\n      <td>0</td>\n      <td>0</td>\n      <td>2023-04-21 04:41:39</td>\n    </tr>\n  </tbody>\n</table>\n</div>"
     },
     "execution_count": 22,
     "metadata": {},
     "output_type": "execute_result"
    }
   ],
   "source": [
    "dev_feed[dev_feed['n_description_paragraphs'] == dev_feed['n_description_paragraphs'].min()]"
   ],
   "metadata": {
    "collapsed": false,
    "ExecuteTime": {
     "start_time": "2023-04-23T12:44:35.328471Z",
     "end_time": "2023-04-23T12:44:35.330923Z"
    }
   }
  },
  {
   "cell_type": "code",
   "execution_count": 23,
   "outputs": [
    {
     "data": {
      "text/plain": "                                               title  title_size   \n6  EA - High schoolers can apply to the Atlas Fel...         101  \\\n\n                                         description  description_size   \n6  Welcome to The Nonlinear Library, where we use...              1956  \\\n\n   n_description_paragraphs content  content_size  n_content_paragraphs   \n6                         4                     0                     0  \\\n\n             pub_date  \n6 2023-04-21 04:41:39  ",
      "text/html": "<div>\n<style scoped>\n    .dataframe tbody tr th:only-of-type {\n        vertical-align: middle;\n    }\n\n    .dataframe tbody tr th {\n        vertical-align: top;\n    }\n\n    .dataframe thead th {\n        text-align: right;\n    }\n</style>\n<table border=\"1\" class=\"dataframe\">\n  <thead>\n    <tr style=\"text-align: right;\">\n      <th></th>\n      <th>title</th>\n      <th>title_size</th>\n      <th>description</th>\n      <th>description_size</th>\n      <th>n_description_paragraphs</th>\n      <th>content</th>\n      <th>content_size</th>\n      <th>n_content_paragraphs</th>\n      <th>pub_date</th>\n    </tr>\n  </thead>\n  <tbody>\n    <tr>\n      <th>6</th>\n      <td>EA - High schoolers can apply to the Atlas Fel...</td>\n      <td>101</td>\n      <td>Welcome to The Nonlinear Library, where we use...</td>\n      <td>1956</td>\n      <td>4</td>\n      <td></td>\n      <td>0</td>\n      <td>0</td>\n      <td>2023-04-21 04:41:39</td>\n    </tr>\n  </tbody>\n</table>\n</div>"
     },
     "execution_count": 23,
     "metadata": {},
     "output_type": "execute_result"
    }
   ],
   "source": [
    "prod_feed[prod_feed['n_description_paragraphs'] == prod_feed['n_description_paragraphs'].min()]"
   ],
   "metadata": {
    "collapsed": false,
    "ExecuteTime": {
     "start_time": "2023-04-23T12:44:35.977147Z",
     "end_time": "2023-04-23T12:44:35.980700Z"
    }
   }
  }
 ],
 "metadata": {
  "kernelspec": {
   "display_name": "Python 3",
   "language": "python",
   "name": "python3"
  },
  "language_info": {
   "codemirror_mode": {
    "name": "ipython",
    "version": 2
   },
   "file_extension": ".py",
   "mimetype": "text/x-python",
   "name": "python",
   "nbconvert_exporter": "python",
   "pygments_lexer": "ipython2",
   "version": "2.7.6"
  }
 },
 "nbformat": 4,
 "nbformat_minor": 0
}
